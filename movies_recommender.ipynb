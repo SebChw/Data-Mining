{
 "cells": [
  {
   "cell_type": "code",
   "execution_count": 174,
   "metadata": {},
   "outputs": [],
   "source": [
    "import pandas as pd\n",
    "import os\n",
    "import matplotlib.pyplot as plt\n",
    "import numpy as np"
   ]
  },
  {
   "cell_type": "markdown",
   "metadata": {},
   "source": [
    "#### At first there is some analysis and then implementation"
   ]
  },
  {
   "cell_type": "markdown",
   "metadata": {},
   "source": [
    "### Getting the data and preprocessing it"
   ]
  },
  {
   "cell_type": "code",
   "execution_count": 175,
   "metadata": {},
   "outputs": [],
   "source": [
    "#Loading data into dataframes\n",
    "\n",
    "data_folder = \"datasets\"\n",
    "\n",
    "movies = pd.read_csv(os.path.join(data_folder, \"movies.csv\")).drop(\"genres\", axis=1) # We do not need genres for our analysis\n",
    "ratings = pd.read_csv(os.path.join(data_folder, \"ratings.csv\")).drop(\"timestamp\", axis=1) # timestap not needed too"
   ]
  },
  {
   "cell_type": "code",
   "execution_count": 176,
   "metadata": {},
   "outputs": [],
   "source": [
    "#Creating a mapping from film_id to film name\n",
    "movies_mapping = {}\n",
    "for index, row in movies.iterrows():\n",
    "    movies_mapping[row.movieId] = row.title"
   ]
  },
  {
   "cell_type": "code",
   "execution_count": 177,
   "metadata": {},
   "outputs": [],
   "source": [
    "#Leaving only reviews that are either positive or negative and then binarizing them\n",
    "mask_with_useful_ratings = (ratings.rating >=4)  | (ratings.rating <= 2)\n",
    "\n",
    "useful_ratings = ratings.loc[mask_with_useful_ratings,:].copy() #Withouth this Pandas was raising a warning about performing operation on slices. \n",
    "\n",
    "useful_ratings[\"rating\"] = useful_ratings.rating.apply(lambda x: 1 if x >= 4 else -1)"
   ]
  },
  {
   "cell_type": "code",
   "execution_count": 178,
   "metadata": {},
   "outputs": [],
   "source": [
    "#Getting number of users and their Id's, moreover I was wondering if I should use test set\n",
    "#While creating and association rules\n",
    "users = useful_ratings.userId.unique()\n",
    "num_of_users = users.size\n",
    "\n",
    "#size_of_test_set = 0.01\n",
    "#users_test, users_train = users[:int(num_of_users*size_of_test_set)], users[int(num_of_users*size_of_test_set):]\n",
    "users_train = users"
   ]
  },
  {
   "cell_type": "code",
   "execution_count": 179,
   "metadata": {},
   "outputs": [],
   "source": [
    "#Creating 2 separate dataframes one for positive rating and second for negative\n",
    "useful_ratings_positive = useful_ratings[useful_ratings.rating == 1]\n",
    "useful_ratings_negative = useful_ratings[useful_ratings.rating == -1]"
   ]
  },
  {
   "cell_type": "code",
   "execution_count": 385,
   "metadata": {},
   "outputs": [],
   "source": [
    "#one user is our service seems to be a one transaction\n",
    "#This table is in 1NF and we must instead create a list of reviewed films by every user\n",
    "positive_transactions = [\n",
    "    list(useful_ratings_positive[useful_ratings_positive.userId == x].movieId)\n",
    "    for x in users_train\n",
    "]\n",
    "\n",
    "negative_transactions = [\n",
    "    list(useful_ratings_negative[useful_ratings_negative.userId == x].movieId)\n",
    "    for x in users_train\n",
    "]"
   ]
  },
  {
   "cell_type": "markdown",
   "metadata": {},
   "source": [
    "### inspecting the positive transactions"
   ]
  },
  {
   "cell_type": "code",
   "execution_count": 181,
   "metadata": {},
   "outputs": [],
   "source": [
    "from mlxtend.preprocessing import TransactionEncoder\n",
    "from mlxtend.frequent_patterns import fpgrowth # use fpgrowth\n",
    "from mlxtend.frequent_patterns import association_rules\n",
    "\n",
    "te = TransactionEncoder()\n",
    "te_array = te.fit_transform(positive_transactions)"
   ]
  },
  {
   "cell_type": "code",
   "execution_count": 182,
   "metadata": {},
   "outputs": [],
   "source": [
    "df = pd.DataFrame(te_array, columns=te.columns_)"
   ]
  },
  {
   "cell_type": "code",
   "execution_count": 183,
   "metadata": {},
   "outputs": [
    {
     "data": {
      "text/plain": [
       "(671, 6170)"
      ]
     },
     "execution_count": 183,
     "metadata": {},
     "output_type": "execute_result"
    }
   ],
   "source": [
    "df.shape # So we have only 671 users in the database, and they've commented 6k films, whereas we have 9k in our base"
   ]
  },
  {
   "cell_type": "markdown",
   "metadata": {},
   "source": [
    "Let's count how many films were reviewed how many times."
   ]
  },
  {
   "cell_type": "code",
   "execution_count": 184,
   "metadata": {},
   "outputs": [
    {
     "data": {
      "text/plain": [
       "count    6170.000000\n",
       "mean        8.357861\n",
       "std        18.314944\n",
       "min         1.000000\n",
       "25%         1.000000\n",
       "50%         2.000000\n",
       "75%         7.000000\n",
       "max       274.000000\n",
       "dtype: float64"
      ]
     },
     "execution_count": 184,
     "metadata": {},
     "output_type": "execute_result"
    }
   ],
   "source": [
    "df.sum().describe() # To include half of a films we would need to set support equal to 2 reviews! Very small number\n",
    "#Also we have a few films that were reviewed so many times. Maybe these are classic watched by everybody?"
   ]
  },
  {
   "cell_type": "code",
   "execution_count": 185,
   "metadata": {},
   "outputs": [
    {
     "data": {
      "text/plain": [
       "Text(0.5, 1.0, 'Distribution of amount of reviews')"
      ]
     },
     "execution_count": 185,
     "metadata": {},
     "output_type": "execute_result"
    },
    {
     "data": {
      "image/png": "[encoded data removed]",
      "text/plain": [
       "<Figure size 432x288 with 1 Axes>"
      ]
     },
     "metadata": {
      "needs_background": "light"
     },
     "output_type": "display_data"
    }
   ],
   "source": [
    "_ = plt.hist(df.sum(), 50)\n",
    "plt.xlabel(\"Number of reviews\")\n",
    "plt.ylabel(\"Number of films\")\n",
    "plt.title(\"Distribution of amount of reviews\")"
   ]
  },
  {
   "cell_type": "markdown",
   "metadata": {},
   "source": [
    "So we see that most of the films are rather rarely reviewed. Most of them appears only few times, so support for itemsets containing these films will be very small. As a result these films won't be included in any association rule. What to do if user starts watching from these films, what to recommend then?\n",
    "\n",
    "We have 671 movies, so if we set support to 5% then movie needs to be at least 34 times reviewed so we will reject most of the movies\n",
    "\n",
    "Moreover movies that were watched many times, may be classics and these are being shown in everyone's basket. So they will\n",
    "create very big itemsets that do not bring anything new, as everyone likes classic films\n",
    "\n",
    "So maybe different approach would work better. I think that we are not very interested in very long associations rules, but rather shorter ones\n",
    "So that based on 2/3 lastly seen movies we can with high precission recommend next 1/2 to watch. `So maybe a good idea would be to restrict the length of itemsets`"
   ]
  },
  {
   "cell_type": "markdown",
   "metadata": {},
   "source": [
    "### Now let's see how many reviews one users give"
   ]
  },
  {
   "cell_type": "code",
   "execution_count": 186,
   "metadata": {},
   "outputs": [
    {
     "data": {
      "text/plain": [
       "count     671.000000\n",
       "mean       76.852459\n",
       "std       106.181753\n",
       "min         1.000000\n",
       "25%        20.000000\n",
       "50%        41.000000\n",
       "75%        88.500000\n",
       "max      1115.000000\n",
       "dtype: float64"
      ]
     },
     "execution_count": 186,
     "metadata": {},
     "output_type": "execute_result"
    }
   ],
   "source": [
    "df.sum(axis=1).describe()"
   ]
  },
  {
   "cell_type": "code",
   "execution_count": 187,
   "metadata": {},
   "outputs": [
    {
     "data": {
      "image/png": "[encoded data removed]",
      "text/plain": [
       "<Figure size 432x288 with 1 Axes>"
      ]
     },
     "metadata": {
      "needs_background": "light"
     },
     "output_type": "display_data"
    }
   ],
   "source": [
    "_ = plt.hist(df.sum(axis=1), 50)"
   ]
  },
  {
   "cell_type": "markdown",
   "metadata": {},
   "source": [
    "Again trend is very similar. Most of the users do not give that many reviews. However, we have some outliers who gave more than 1k positive reviews. Are these critics? Or these are bots that comment everything positively? Should we do anything with them? "
   ]
  },
  {
   "cell_type": "markdown",
   "metadata": {},
   "source": [
    "### Creating frequent datasets\n",
    "\n",
    "Let's try at first typical setting with min support 5% which corresponds to a films being watched 34 times"
   ]
  },
  {
   "cell_type": "code",
   "execution_count": 381,
   "metadata": {},
   "outputs": [],
   "source": [
    "frequent_itemsets = fpgrowth(df, min_support=0.05, use_colnames=True) #fpgrowth is much faster than apriori"
   ]
  },
  {
   "cell_type": "code",
   "execution_count": 382,
   "metadata": {},
   "outputs": [
    {
     "data": {
      "text/html": [
       "<div>\n",
       "<style scoped>\n",
       "    .dataframe tbody tr th:only-of-type {\n",
       "        vertical-align: middle;\n",
       "    }\n",
       "\n",
       "    .dataframe tbody tr th {\n",
       "        vertical-align: top;\n",
       "    }\n",
       "\n",
       "    .dataframe thead th {\n",
       "        text-align: right;\n",
       "    }\n",
       "</style>\n",
       "<table border=\"1\" class=\"dataframe\">\n",
       "  <thead>\n",
       "    <tr style=\"text-align: right;\">\n",
       "      <th></th>\n",
       "      <th>support</th>\n",
       "      <th>itemsets</th>\n",
       "    </tr>\n",
       "  </thead>\n",
       "  <tbody>\n",
       "    <tr>\n",
       "      <th>0</th>\n",
       "      <td>0.940387</td>\n",
       "      <td>(8)</td>\n",
       "    </tr>\n",
       "    <tr>\n",
       "      <th>1</th>\n",
       "      <td>0.891207</td>\n",
       "      <td>(6)</td>\n",
       "    </tr>\n",
       "    <tr>\n",
       "      <th>2</th>\n",
       "      <td>0.874814</td>\n",
       "      <td>(17)</td>\n",
       "    </tr>\n",
       "    <tr>\n",
       "      <th>3</th>\n",
       "      <td>0.862891</td>\n",
       "      <td>(15)</td>\n",
       "    </tr>\n",
       "    <tr>\n",
       "      <th>4</th>\n",
       "      <td>0.853949</td>\n",
       "      <td>(5)</td>\n",
       "    </tr>\n",
       "    <tr>\n",
       "      <th>...</th>\n",
       "      <td>...</td>\n",
       "      <td>...</td>\n",
       "    </tr>\n",
       "    <tr>\n",
       "      <th>524282</th>\n",
       "      <td>0.137109</td>\n",
       "      <td>(1, 2, 3, 4, 5, 6, 8, 10, 13, 14, 15, 16, 17, ...</td>\n",
       "    </tr>\n",
       "    <tr>\n",
       "      <th>524283</th>\n",
       "      <td>0.137109</td>\n",
       "      <td>(1, 2, 3, 4, 5, 8, 9, 10, 13, 14, 15, 16, 17, ...</td>\n",
       "    </tr>\n",
       "    <tr>\n",
       "      <th>524284</th>\n",
       "      <td>0.137109</td>\n",
       "      <td>(1, 2, 3, 4, 5, 6, 9, 10, 13, 14, 15, 16, 17, ...</td>\n",
       "    </tr>\n",
       "    <tr>\n",
       "      <th>524285</th>\n",
       "      <td>0.137109</td>\n",
       "      <td>(1, 2, 3, 4, 6, 8, 9, 10, 13, 14, 15, 16, 17, ...</td>\n",
       "    </tr>\n",
       "    <tr>\n",
       "      <th>524286</th>\n",
       "      <td>0.137109</td>\n",
       "      <td>(1, 2, 3, 4, 5, 6, 8, 9, 10, 13, 14, 15, 16, 1...</td>\n",
       "    </tr>\n",
       "  </tbody>\n",
       "</table>\n",
       "<p>524287 rows × 2 columns</p>\n",
       "</div>"
      ],
      "text/plain": [
       "         support                                           itemsets\n",
       "0       0.940387                                                (8)\n",
       "1       0.891207                                                (6)\n",
       "2       0.874814                                               (17)\n",
       "3       0.862891                                               (15)\n",
       "4       0.853949                                                (5)\n",
       "...          ...                                                ...\n",
       "524282  0.137109  (1, 2, 3, 4, 5, 6, 8, 10, 13, 14, 15, 16, 17, ...\n",
       "524283  0.137109  (1, 2, 3, 4, 5, 8, 9, 10, 13, 14, 15, 16, 17, ...\n",
       "524284  0.137109  (1, 2, 3, 4, 5, 6, 9, 10, 13, 14, 15, 16, 17, ...\n",
       "524285  0.137109  (1, 2, 3, 4, 6, 8, 9, 10, 13, 14, 15, 16, 17, ...\n",
       "524286  0.137109  (1, 2, 3, 4, 5, 6, 8, 9, 10, 13, 14, 15, 16, 1...\n",
       "\n",
       "[524287 rows x 2 columns]"
      ]
     },
     "execution_count": 382,
     "metadata": {},
     "output_type": "execute_result"
    }
   ],
   "source": [
    "frequent_itemsets"
   ]
  },
  {
   "cell_type": "code",
   "execution_count": 189,
   "metadata": {},
   "outputs": [
    {
     "data": {
      "text/plain": [
       "(17197, 2)"
      ]
     },
     "execution_count": 189,
     "metadata": {},
     "output_type": "execute_result"
    }
   ],
   "source": [
    "frequent_itemsets.shape"
   ]
  },
  {
   "cell_type": "code",
   "execution_count": 190,
   "metadata": {},
   "outputs": [],
   "source": [
    "positive_ratings_rules = association_rules(frequent_itemsets, metric='lift', min_threshold=5.0)"
   ]
  },
  {
   "cell_type": "code",
   "execution_count": 191,
   "metadata": {},
   "outputs": [
    {
     "data": {
      "text/plain": [
       "102"
      ]
     },
     "execution_count": 191,
     "metadata": {},
     "output_type": "execute_result"
    }
   ],
   "source": [
    "#Let's calculate how many films the rules covered\n",
    "all_films = set()\n",
    "for index, films in positive_ratings_rules.antecedents.iteritems():\n",
    "    all_films = all_films.union(films)\n",
    "\n",
    "len(all_films) "
   ]
  },
  {
   "cell_type": "markdown",
   "metadata": {},
   "source": [
    "This make no sense to use only 100 films out of 6k possible! So definitelly we need to change the approach and maybe try to restrict length of frequent itemsets.\n",
    "\n",
    "Let's try some very radical setting to see if we are able to cover more films with it"
   ]
  },
  {
   "cell_type": "code",
   "execution_count": 223,
   "metadata": {},
   "outputs": [],
   "source": [
    "frequent_itemsets = fpgrowth(df, min_support=0.02, use_colnames=True, max_len=3) \n",
    "#Basically difference between sizes of frequent itemstets even if we change support by a little here is very big"
   ]
  },
  {
   "cell_type": "code",
   "execution_count": 193,
   "metadata": {},
   "outputs": [
    {
     "data": {
      "text/plain": [
       "(112034, 2)"
      ]
     },
     "execution_count": 193,
     "metadata": {},
     "output_type": "execute_result"
    }
   ],
   "source": [
    "frequent_itemsets.shape"
   ]
  },
  {
   "cell_type": "code",
   "execution_count": 194,
   "metadata": {},
   "outputs": [],
   "source": [
    "positive_ratings_rules = association_rules(frequent_itemsets, metric='lift', min_threshold=5.0)"
   ]
  },
  {
   "cell_type": "code",
   "execution_count": 195,
   "metadata": {},
   "outputs": [
    {
     "data": {
      "text/plain": [
       "1346"
      ]
     },
     "execution_count": 195,
     "metadata": {},
     "output_type": "execute_result"
    }
   ],
   "source": [
    "#Let's calculate how many films the rules covered\n",
    "all_films = set()\n",
    "for index, films in positive_ratings_rules.antecedents.iteritems():\n",
    "    all_films = all_films.union(films)\n",
    "\n",
    "len(all_films) "
   ]
  },
  {
   "cell_type": "markdown",
   "metadata": {},
   "source": [
    "Still not that many films. Only 1413 from 6k in corpus (9k in entire database). Probability that first watched film won't be from that pool is about $\\frac{1413}{6000} \\approx 80\\%$, that 2 films are not from that pool about 50% `(I assumed independence and just muliply probabilities in reality this probably differs.)` so it is very likely that even after watching a few films we will still be forced to show some random recomendations.\n",
    "\n",
    "Moreover some rules may still be conjunctions $A \\wedge B -> C$ and we may not have just $A -> C$ in the base (proofed this to myself by simple van diagram). So what if user watched just A? We can make poor assumptions that $A \\wedge B ->C <=> A -> C \\wedge B -> C$ But this in some cases may give strange results. As an example If someone liked romance and horror then for sure they will like some romance with horror elements but if they just liked romance it make no sense to assume they will like merge of them\n",
    "\n",
    "Another thing would be to assume symmetricity and one step transitivity of these rules (This is may be closer to the true in case of films than previous assumption). So if user liked movie A, but we do not have any rule A -> X, then we check if we have anything B -> A. Then, we could assume that all rules B -> X, where X is random film hold also for A. So then we can also use movies that are only consequents. But how much more we have then?"
   ]
  },
  {
   "cell_type": "code",
   "execution_count": 47,
   "metadata": {},
   "outputs": [
    {
     "data": {
      "text/plain": [
       "1413"
      ]
     },
     "execution_count": 47,
     "metadata": {},
     "output_type": "execute_result"
    }
   ],
   "source": [
    "#Additionally add consequents to all possible films\n",
    "for index, films in positive_ratings_rules.consequents.iteritems():\n",
    "    all_films = all_films.union(films)\n",
    "len(all_films)"
   ]
  },
  {
   "cell_type": "markdown",
   "metadata": {},
   "source": [
    "Didn't expected that we won't gain anything... So maybe this symmetricity holds with such a small support?\n",
    "\n",
    "Last idea I have is to incorporate Multilevel Association Rules and use information about film genres, which I've previously dropped. If rules incorporating ganres will be trivial and not helping at all, then eventually if we do not have information in rules we can just recommend random movie from the same genre as previosuly watched one."
   ]
  },
  {
   "cell_type": "code",
   "execution_count": 115,
   "metadata": {},
   "outputs": [],
   "source": [
    "movies_genre = pd.read_csv(os.path.join(data_folder, \"movies.csv\"))"
   ]
  },
  {
   "cell_type": "code",
   "execution_count": 116,
   "metadata": {},
   "outputs": [],
   "source": [
    "#Creating a mapping from film_id to [film_name, film_genres] \n",
    "movies_mapping_genre = {}\n",
    "all_genres = set()\n",
    "for index, row in movies_genre.iterrows():\n",
    "    movies_mapping_genre[row.movieId] = []\n",
    "    movies_mapping_genre[row.movieId].append(row.title)\n",
    "    movie_genres = row.genres.split(\"|\")\n",
    "    all_genres = all_genres.union(set(movie_genres))\n",
    "    movies_mapping_genre[row.movieId].append(movie_genres)"
   ]
  },
  {
   "cell_type": "code",
   "execution_count": 117,
   "metadata": {},
   "outputs": [
    {
     "name": "stdout",
     "output_type": "stream",
     "text": [
      "{'Romance', 'Animation', 'Sci-Fi', 'Children', 'Action', 'Fantasy', 'Drama', 'Musical', 'Horror', 'Documentary', 'Thriller', 'Mystery', 'IMAX', 'Crime', 'Film-Noir', 'Comedy', 'Adventure', 'Western', '(no genres listed)', 'War'}\n"
     ]
    }
   ],
   "source": [
    "print(all_genres)  # no genres listed.. We should do something with this probably"
   ]
  },
  {
   "cell_type": "code",
   "execution_count": 118,
   "metadata": {},
   "outputs": [
    {
     "data": {
      "text/plain": [
       "17"
      ]
     },
     "execution_count": 118,
     "metadata": {},
     "output_type": "execute_result"
    }
   ],
   "source": [
    "len(set(ratings.movieId).intersection(set(movies_genre[movies_genre[\"genres\"]==\"(no genres listed)\"].movieId))) #and movies withouth a genre are reviewed\n",
    "#so not sure what should I do here"
   ]
  },
  {
   "cell_type": "code",
   "execution_count": 119,
   "metadata": {},
   "outputs": [],
   "source": [
    "from collections import defaultdict\n",
    "#Let's count which genres user like. I assume a user like genre if balance liked_movies_from_genre - not_liked_movies_from_genre is positive\n",
    "all_genres_list_sorted = sorted(list(all_genres)) # I want this mapping to always be the same, with set this may not be the case\n",
    "mapping_genre_to_numbers = {v:k for k,v in zip(range(len(all_genres)), all_genres_list_sorted)}\n",
    "\n",
    "# mapping_genre_to_numbers_shifted_by_films = {v:k for k,v in zip(range(len(all_genres)), all_genres_list_sorted)}  \n",
    "num_of_genres = len(all_genres) \n",
    "\n",
    "user_genres = defaultdict(lambda : [0] * num_of_genres)\n",
    "\n",
    "#maybe this could be vectorized but not sure how to do it\n",
    "for index, row in useful_ratings.iterrows():\n",
    "    userId, movieId, rating = row\n",
    "    for genre in movies_mapping_genre[movieId][1]:\n",
    "        user_genres[userId][mapping_genre_to_numbers[genre]] += rating\n",
    "        "
   ]
  },
  {
   "cell_type": "code",
   "execution_count": 124,
   "metadata": {},
   "outputs": [
    {
     "data": {
      "text/html": [
       "<div>\n",
       "<style scoped>\n",
       "    .dataframe tbody tr th:only-of-type {\n",
       "        vertical-align: middle;\n",
       "    }\n",
       "\n",
       "    .dataframe tbody tr th {\n",
       "        vertical-align: top;\n",
       "    }\n",
       "\n",
       "    .dataframe thead th {\n",
       "        text-align: right;\n",
       "    }\n",
       "</style>\n",
       "<table border=\"1\" class=\"dataframe\">\n",
       "  <thead>\n",
       "    <tr style=\"text-align: right;\">\n",
       "      <th></th>\n",
       "      <th>(no genres listed)</th>\n",
       "      <th>Action</th>\n",
       "      <th>Adventure</th>\n",
       "      <th>Animation</th>\n",
       "      <th>Children</th>\n",
       "      <th>Comedy</th>\n",
       "      <th>Crime</th>\n",
       "      <th>Documentary</th>\n",
       "      <th>Drama</th>\n",
       "      <th>Fantasy</th>\n",
       "      <th>Film-Noir</th>\n",
       "      <th>Horror</th>\n",
       "      <th>IMAX</th>\n",
       "      <th>Musical</th>\n",
       "      <th>Mystery</th>\n",
       "      <th>Romance</th>\n",
       "      <th>Sci-Fi</th>\n",
       "      <th>Thriller</th>\n",
       "      <th>War</th>\n",
       "      <th>Western</th>\n",
       "    </tr>\n",
       "  </thead>\n",
       "  <tbody>\n",
       "    <tr>\n",
       "      <th>1</th>\n",
       "      <td>0</td>\n",
       "      <td>-1</td>\n",
       "      <td>-5</td>\n",
       "      <td>-2</td>\n",
       "      <td>-1</td>\n",
       "      <td>-3</td>\n",
       "      <td>0</td>\n",
       "      <td>0</td>\n",
       "      <td>-2</td>\n",
       "      <td>-3</td>\n",
       "      <td>0</td>\n",
       "      <td>0</td>\n",
       "      <td>0</td>\n",
       "      <td>0</td>\n",
       "      <td>0</td>\n",
       "      <td>0</td>\n",
       "      <td>-1</td>\n",
       "      <td>-1</td>\n",
       "      <td>-1</td>\n",
       "      <td>0</td>\n",
       "    </tr>\n",
       "    <tr>\n",
       "      <th>2</th>\n",
       "      <td>0</td>\n",
       "      <td>4</td>\n",
       "      <td>7</td>\n",
       "      <td>3</td>\n",
       "      <td>3</td>\n",
       "      <td>3</td>\n",
       "      <td>5</td>\n",
       "      <td>0</td>\n",
       "      <td>19</td>\n",
       "      <td>2</td>\n",
       "      <td>0</td>\n",
       "      <td>2</td>\n",
       "      <td>1</td>\n",
       "      <td>2</td>\n",
       "      <td>4</td>\n",
       "      <td>8</td>\n",
       "      <td>3</td>\n",
       "      <td>7</td>\n",
       "      <td>3</td>\n",
       "      <td>2</td>\n",
       "    </tr>\n",
       "    <tr>\n",
       "      <th>3</th>\n",
       "      <td>0</td>\n",
       "      <td>5</td>\n",
       "      <td>2</td>\n",
       "      <td>-1</td>\n",
       "      <td>-1</td>\n",
       "      <td>8</td>\n",
       "      <td>4</td>\n",
       "      <td>1</td>\n",
       "      <td>16</td>\n",
       "      <td>0</td>\n",
       "      <td>0</td>\n",
       "      <td>1</td>\n",
       "      <td>-1</td>\n",
       "      <td>-1</td>\n",
       "      <td>1</td>\n",
       "      <td>4</td>\n",
       "      <td>0</td>\n",
       "      <td>4</td>\n",
       "      <td>5</td>\n",
       "      <td>1</td>\n",
       "    </tr>\n",
       "    <tr>\n",
       "      <th>4</th>\n",
       "      <td>0</td>\n",
       "      <td>47</td>\n",
       "      <td>51</td>\n",
       "      <td>22</td>\n",
       "      <td>37</td>\n",
       "      <td>69</td>\n",
       "      <td>25</td>\n",
       "      <td>1</td>\n",
       "      <td>48</td>\n",
       "      <td>32</td>\n",
       "      <td>1</td>\n",
       "      <td>10</td>\n",
       "      <td>1</td>\n",
       "      <td>23</td>\n",
       "      <td>6</td>\n",
       "      <td>26</td>\n",
       "      <td>32</td>\n",
       "      <td>29</td>\n",
       "      <td>4</td>\n",
       "      <td>0</td>\n",
       "    </tr>\n",
       "    <tr>\n",
       "      <th>5</th>\n",
       "      <td>0</td>\n",
       "      <td>10</td>\n",
       "      <td>12</td>\n",
       "      <td>6</td>\n",
       "      <td>9</td>\n",
       "      <td>39</td>\n",
       "      <td>4</td>\n",
       "      <td>1</td>\n",
       "      <td>24</td>\n",
       "      <td>8</td>\n",
       "      <td>0</td>\n",
       "      <td>2</td>\n",
       "      <td>4</td>\n",
       "      <td>8</td>\n",
       "      <td>0</td>\n",
       "      <td>30</td>\n",
       "      <td>5</td>\n",
       "      <td>5</td>\n",
       "      <td>3</td>\n",
       "      <td>0</td>\n",
       "    </tr>\n",
       "    <tr>\n",
       "      <th>...</th>\n",
       "      <td>...</td>\n",
       "      <td>...</td>\n",
       "      <td>...</td>\n",
       "      <td>...</td>\n",
       "      <td>...</td>\n",
       "      <td>...</td>\n",
       "      <td>...</td>\n",
       "      <td>...</td>\n",
       "      <td>...</td>\n",
       "      <td>...</td>\n",
       "      <td>...</td>\n",
       "      <td>...</td>\n",
       "      <td>...</td>\n",
       "      <td>...</td>\n",
       "      <td>...</td>\n",
       "      <td>...</td>\n",
       "      <td>...</td>\n",
       "      <td>...</td>\n",
       "      <td>...</td>\n",
       "      <td>...</td>\n",
       "    </tr>\n",
       "    <tr>\n",
       "      <th>667</th>\n",
       "      <td>0</td>\n",
       "      <td>4</td>\n",
       "      <td>4</td>\n",
       "      <td>4</td>\n",
       "      <td>4</td>\n",
       "      <td>14</td>\n",
       "      <td>5</td>\n",
       "      <td>0</td>\n",
       "      <td>22</td>\n",
       "      <td>4</td>\n",
       "      <td>0</td>\n",
       "      <td>0</td>\n",
       "      <td>1</td>\n",
       "      <td>2</td>\n",
       "      <td>1</td>\n",
       "      <td>6</td>\n",
       "      <td>3</td>\n",
       "      <td>7</td>\n",
       "      <td>4</td>\n",
       "      <td>0</td>\n",
       "    </tr>\n",
       "    <tr>\n",
       "      <th>668</th>\n",
       "      <td>0</td>\n",
       "      <td>1</td>\n",
       "      <td>0</td>\n",
       "      <td>0</td>\n",
       "      <td>0</td>\n",
       "      <td>2</td>\n",
       "      <td>6</td>\n",
       "      <td>0</td>\n",
       "      <td>10</td>\n",
       "      <td>1</td>\n",
       "      <td>0</td>\n",
       "      <td>1</td>\n",
       "      <td>0</td>\n",
       "      <td>0</td>\n",
       "      <td>0</td>\n",
       "      <td>1</td>\n",
       "      <td>0</td>\n",
       "      <td>3</td>\n",
       "      <td>2</td>\n",
       "      <td>0</td>\n",
       "    </tr>\n",
       "    <tr>\n",
       "      <th>669</th>\n",
       "      <td>0</td>\n",
       "      <td>4</td>\n",
       "      <td>3</td>\n",
       "      <td>0</td>\n",
       "      <td>0</td>\n",
       "      <td>6</td>\n",
       "      <td>2</td>\n",
       "      <td>0</td>\n",
       "      <td>4</td>\n",
       "      <td>0</td>\n",
       "      <td>1</td>\n",
       "      <td>-3</td>\n",
       "      <td>0</td>\n",
       "      <td>0</td>\n",
       "      <td>1</td>\n",
       "      <td>1</td>\n",
       "      <td>-2</td>\n",
       "      <td>0</td>\n",
       "      <td>0</td>\n",
       "      <td>1</td>\n",
       "    </tr>\n",
       "    <tr>\n",
       "      <th>670</th>\n",
       "      <td>0</td>\n",
       "      <td>2</td>\n",
       "      <td>2</td>\n",
       "      <td>1</td>\n",
       "      <td>2</td>\n",
       "      <td>3</td>\n",
       "      <td>4</td>\n",
       "      <td>0</td>\n",
       "      <td>9</td>\n",
       "      <td>1</td>\n",
       "      <td>-2</td>\n",
       "      <td>1</td>\n",
       "      <td>0</td>\n",
       "      <td>0</td>\n",
       "      <td>1</td>\n",
       "      <td>3</td>\n",
       "      <td>3</td>\n",
       "      <td>5</td>\n",
       "      <td>2</td>\n",
       "      <td>-1</td>\n",
       "    </tr>\n",
       "    <tr>\n",
       "      <th>671</th>\n",
       "      <td>0</td>\n",
       "      <td>15</td>\n",
       "      <td>21</td>\n",
       "      <td>9</td>\n",
       "      <td>12</td>\n",
       "      <td>31</td>\n",
       "      <td>15</td>\n",
       "      <td>3</td>\n",
       "      <td>33</td>\n",
       "      <td>14</td>\n",
       "      <td>0</td>\n",
       "      <td>2</td>\n",
       "      <td>1</td>\n",
       "      <td>7</td>\n",
       "      <td>4</td>\n",
       "      <td>14</td>\n",
       "      <td>8</td>\n",
       "      <td>17</td>\n",
       "      <td>5</td>\n",
       "      <td>3</td>\n",
       "    </tr>\n",
       "  </tbody>\n",
       "</table>\n",
       "<p>671 rows × 20 columns</p>\n",
       "</div>"
      ],
      "text/plain": [
       "     (no genres listed)  Action  Adventure  Animation  Children  Comedy  \\\n",
       "1                     0      -1         -5         -2        -1      -3   \n",
       "2                     0       4          7          3         3       3   \n",
       "3                     0       5          2         -1        -1       8   \n",
       "4                     0      47         51         22        37      69   \n",
       "5                     0      10         12          6         9      39   \n",
       "..                  ...     ...        ...        ...       ...     ...   \n",
       "667                   0       4          4          4         4      14   \n",
       "668                   0       1          0          0         0       2   \n",
       "669                   0       4          3          0         0       6   \n",
       "670                   0       2          2          1         2       3   \n",
       "671                   0      15         21          9        12      31   \n",
       "\n",
       "     Crime  Documentary  Drama  Fantasy  Film-Noir  Horror  IMAX  Musical  \\\n",
       "1        0            0     -2       -3          0       0     0        0   \n",
       "2        5            0     19        2          0       2     1        2   \n",
       "3        4            1     16        0          0       1    -1       -1   \n",
       "4       25            1     48       32          1      10     1       23   \n",
       "5        4            1     24        8          0       2     4        8   \n",
       "..     ...          ...    ...      ...        ...     ...   ...      ...   \n",
       "667      5            0     22        4          0       0     1        2   \n",
       "668      6            0     10        1          0       1     0        0   \n",
       "669      2            0      4        0          1      -3     0        0   \n",
       "670      4            0      9        1         -2       1     0        0   \n",
       "671     15            3     33       14          0       2     1        7   \n",
       "\n",
       "     Mystery  Romance  Sci-Fi  Thriller  War  Western  \n",
       "1          0        0      -1        -1   -1        0  \n",
       "2          4        8       3         7    3        2  \n",
       "3          1        4       0         4    5        1  \n",
       "4          6       26      32        29    4        0  \n",
       "5          0       30       5         5    3        0  \n",
       "..       ...      ...     ...       ...  ...      ...  \n",
       "667        1        6       3         7    4        0  \n",
       "668        0        1       0         3    2        0  \n",
       "669        1        1      -2         0    0        1  \n",
       "670        1        3       3         5    2       -1  \n",
       "671        4       14       8        17    5        3  \n",
       "\n",
       "[671 rows x 20 columns]"
      ]
     },
     "execution_count": 124,
     "metadata": {},
     "output_type": "execute_result"
    }
   ],
   "source": [
    "genres_sentiment = pd.DataFrame(user_genres).transpose()\n",
    "genres_sentiment.columns = all_genres_list_sorted\n",
    "genres_sentiment # We get new cool dataframe"
   ]
  },
  {
   "cell_type": "code",
   "execution_count": 125,
   "metadata": {},
   "outputs": [],
   "source": [
    "genres_sentiment_class = genres_sentiment.apply(lambda x: np.sign(x)) #now if anyone likes a genre it get 1 if don't it get -1 if 0 then we do not care"
   ]
  },
  {
   "cell_type": "markdown",
   "metadata": {},
   "source": [
    "Merging genres information with film information was not the best idea as then we then have just too much trivial frequenct sets and algorithm works veeery slow. Im just leaving the cell in which I've merged these two"
   ]
  },
  {
   "cell_type": "code",
   "execution_count": 126,
   "metadata": {},
   "outputs": [],
   "source": [
    "positive_transactions_film_and_genre = []\n",
    "for userId in users_train:\n",
    "    liked_movies = list(useful_ratings_positive[useful_ratings_positive.userId == userId].movieId + num_of_genres)  # not to have ovelapping genre indices with film indices\n",
    "    #so first 19 indices are devoted for genres\n",
    "    liked_genres = np.argwhere((genres_sentiment_class.loc[userId] == 1).to_numpy())\n",
    "    positive_transactions_film_and_genre.append(list(liked_genres.flatten()) + liked_movies )\n",
    "    "
   ]
  },
  {
   "cell_type": "markdown",
   "metadata": {},
   "source": [
    "Okay so maybe we can just try to learn which genre works well with one another and if user hasn't watched enough movies recommend based on the genre information"
   ]
  },
  {
   "cell_type": "code",
   "execution_count": 267,
   "metadata": {},
   "outputs": [],
   "source": [
    "positive_transactions_genre = []\n",
    "for userId in users_train:\n",
    "    liked_genres = np.argwhere((genres_sentiment_class.loc[userId] == 1).to_numpy())\n",
    "    positive_transactions_genre.append(list(liked_genres.flatten()) )"
   ]
  },
  {
   "cell_type": "code",
   "execution_count": 322,
   "metadata": {},
   "outputs": [],
   "source": [
    "te = TransactionEncoder()\n",
    "te_array = te.fit_transform(positive_transactions_genre)\n",
    "\n",
    "df = pd.DataFrame(te_array, columns=te.columns_)\n",
    "\n",
    "frequent_itemsets = fpgrowth(df, min_support=0.6, use_colnames=True, max_len=4) #in that case we have small amount of items and they probably are quite often\n",
    "#So support should be high, I also think that constraining size of the frequent itemset is a good idea"
   ]
  },
  {
   "cell_type": "code",
   "execution_count": 55,
   "metadata": {},
   "outputs": [],
   "source": [
    "positive_genres_rules = association_rules(frequent_itemsets, metric='lift', min_threshold=1.45) # generally lift is quite small in that case\n",
    "#I've found that maximum lift for any rule is 1.7 here"
   ]
  },
  {
   "cell_type": "code",
   "execution_count": 34,
   "metadata": {},
   "outputs": [
    {
     "ename": "NameError",
     "evalue": "name 'positive_genres_rules' is not defined",
     "output_type": "error",
     "traceback": [
      "\u001b[1;31m---------------------------------------------------------------------------\u001b[0m",
      "\u001b[1;31mNameError\u001b[0m                                 Traceback (most recent call last)",
      "\u001b[1;32md:\\AI_year2_Sem2\\DataMining\\movies_recommender.ipynb Cell 49'\u001b[0m in \u001b[0;36m<cell line: 2>\u001b[1;34m()\u001b[0m\n\u001b[0;32m      <a href='vscode-notebook-cell:/d%3A/AI_year2_Sem2/DataMining/movies_recommender.ipynb#ch0000047?line=0'>1</a>\u001b[0m \u001b[39m#SO with that setting only genre number 3 is included\u001b[39;00m\n\u001b[1;32m----> <a href='vscode-notebook-cell:/d%3A/AI_year2_Sem2/DataMining/movies_recommender.ipynb#ch0000047?line=1'>2</a>\u001b[0m \u001b[39mfor\u001b[39;00m i \u001b[39min\u001b[39;00m positive_genres_rules\u001b[39m.\u001b[39mantecedents\u001b[39m.\u001b[39miteritems():\n\u001b[0;32m      <a href='vscode-notebook-cell:/d%3A/AI_year2_Sem2/DataMining/movies_recommender.ipynb#ch0000047?line=2'>3</a>\u001b[0m     \u001b[39mif\u001b[39;00m \u001b[39mlen\u001b[39m(i[\u001b[39m1\u001b[39m]) \u001b[39m==\u001b[39m \u001b[39m1\u001b[39m:\n\u001b[0;32m      <a href='vscode-notebook-cell:/d%3A/AI_year2_Sem2/DataMining/movies_recommender.ipynb#ch0000047?line=3'>4</a>\u001b[0m         \u001b[39mprint\u001b[39m(i[\u001b[39m1\u001b[39m])\n",
      "\u001b[1;31mNameError\u001b[0m: name 'positive_genres_rules' is not defined"
     ]
    }
   ],
   "source": [
    "#SO with that setting only genre number 3 is included\n",
    "for i in positive_genres_rules.antecedents.iteritems():\n",
    "    if len(i[1]) == 1:\n",
    "        print(i[1]) # Not so good what if someone watched genre different than 3rd one?"
   ]
  },
  {
   "cell_type": "markdown",
   "metadata": {},
   "source": [
    "I think that we could look for associations rules iteratively at the very end. At first try to create very short rules (only A->B) but with low support not to miss the rarest film rules. And then in each iteration increase minsupport and allowed rule length. After that we could somehow filter these rules further for all the films selecting just these with the biggest support and lift. With this approach we probably would be able to cover a lot of films."
   ]
  },
  {
   "cell_type": "markdown",
   "metadata": {},
   "source": [
    "Yet another idea is to somehow see if there is some kind of correlation between genres that we can observe. we can treat every column as a one random variable. I think that we are mostly interested in that binary random variable. If we take counts into account, the variance is much bigger. In general our goal is not to predict how many films someone will watch but just if they will like it.\n",
    "\n",
    "It is quite interesting that there are some genres with high positive correlation with another, so if we like Action probably we will like Adventure too. However, negative correlation between genres never occured. So If we like Adventure it does not determine that we won't like documentary, correlation(adventure, documentary) is rather small so then it probably depends on how good particular film is and not on genre itself."
   ]
  },
  {
   "cell_type": "code",
   "execution_count": 127,
   "metadata": {},
   "outputs": [],
   "source": [
    "num_of_genres = len(genres_sentiment_class.columns)\n",
    "genres_sentiment_correlation = genres_sentiment_class.corr()\n",
    "genres_sentiment_correlation.values[np.arange(num_of_genres), np.arange(num_of_genres)] = -2 # I don't want to have this obvious correlations in the top-k correlations\n",
    "#-2 as I do not need negatively correlated variables anyway\n",
    "#genres_sentiment_correlation"
   ]
  },
  {
   "cell_type": "code",
   "execution_count": 128,
   "metadata": {},
   "outputs": [
    {
     "data": {
      "text/plain": [
       "(no genres listed)    0.116656\n",
       "Action                0.620187\n",
       "Adventure             0.620187\n",
       "Animation             0.746318\n",
       "Children              0.746318\n",
       "Comedy                0.637221\n",
       "Crime                 0.529792\n",
       "Documentary           0.348751\n",
       "Drama                 0.520476\n",
       "Fantasy               0.606182\n",
       "Film-Noir             0.348751\n",
       "Horror                0.419584\n",
       "IMAX                  0.392071\n",
       "Musical               0.537097\n",
       "Mystery               0.517156\n",
       "Romance               0.637221\n",
       "Sci-Fi                0.588742\n",
       "Thriller              0.607969\n",
       "War                   0.434633\n",
       "Western               0.314351\n",
       "dtype: float64"
      ]
     },
     "execution_count": 128,
     "metadata": {},
     "output_type": "execute_result"
    }
   ],
   "source": [
    "genres_sentiment_correlation.max() # the strongest correlations are quite weak I would say. But this is yet another aspect that we can use during recommendations"
   ]
  },
  {
   "cell_type": "code",
   "execution_count": 129,
   "metadata": {},
   "outputs": [
    {
     "data": {
      "text/plain": [
       "Adventure    0.620187\n",
       "Thriller     0.607969\n",
       "Sci-Fi       0.588742\n",
       "Comedy       0.499832\n",
       "Name: Action, dtype: float64"
      ]
     },
     "execution_count": 129,
     "metadata": {},
     "output_type": "execute_result"
    }
   ],
   "source": [
    "#Lets select only best correlations\n",
    "best_correlations = {}\n",
    "for i, (genre_name, correlations) in enumerate(genres_sentiment_correlation.iteritems()):\n",
    "    best_correlations[genre_name] = correlations.sort_values(ascending=False)[:4]\n",
    "\n",
    "best_correlations[\"Action\"]"
   ]
  },
  {
   "cell_type": "markdown",
   "metadata": {},
   "source": [
    "Last thing could be to select best films from all the genres"
   ]
  },
  {
   "cell_type": "code",
   "execution_count": 147,
   "metadata": {},
   "outputs": [],
   "source": [
    "best_films_in_genre = defaultdict(lambda : [])\n",
    "\n",
    "for movieId, positive_ratings in useful_ratings.groupby(\"movieId\").rating.sum().iteritems():\n",
    "    name, genres = movies_mapping_genre[movieId]\n",
    "    for genre in genres:\n",
    "        best_films_in_genre[genre].append((name, positive_ratings))\n",
    "\n",
    "for genre, films in best_films_in_genre.items():\n",
    "    best_films_in_genre[genre] = sorted(films, key = lambda x: x[1], reverse=True)"
   ]
  },
  {
   "cell_type": "code",
   "execution_count": 151,
   "metadata": {},
   "outputs": [
    {
     "data": {
      "text/plain": [
       "[('Forrest Gump (1994)', 236),\n",
       " ('American Beauty (1999)', 173),\n",
       " ('Princess Bride, The (1987)', 124),\n",
       " ('Good Will Hunting (1997)', 119),\n",
       " ('Shrek (2001)', 102)]"
      ]
     },
     "execution_count": 151,
     "metadata": {},
     "output_type": "execute_result"
    }
   ],
   "source": [
    "best_films_in_genre[\"Romance\"][:5] #not sure why forrest gump and shrek are romances but fine"
   ]
  },
  {
   "cell_type": "code",
   "execution_count": 160,
   "metadata": {},
   "outputs": [
    {
     "data": {
      "text/html": [
       "<div>\n",
       "<style scoped>\n",
       "    .dataframe tbody tr th:only-of-type {\n",
       "        vertical-align: middle;\n",
       "    }\n",
       "\n",
       "    .dataframe tbody tr th {\n",
       "        vertical-align: top;\n",
       "    }\n",
       "\n",
       "    .dataframe thead th {\n",
       "        text-align: right;\n",
       "    }\n",
       "</style>\n",
       "<table border=\"1\" class=\"dataframe\">\n",
       "  <thead>\n",
       "    <tr style=\"text-align: right;\">\n",
       "      <th></th>\n",
       "      <th>movieId</th>\n",
       "      <th>title</th>\n",
       "      <th>genres</th>\n",
       "    </tr>\n",
       "  </thead>\n",
       "  <tbody>\n",
       "    <tr>\n",
       "      <th>321</th>\n",
       "      <td>356</td>\n",
       "      <td>Forrest Gump (1994)</td>\n",
       "      <td>Comedy|Drama|Romance|War</td>\n",
       "    </tr>\n",
       "  </tbody>\n",
       "</table>\n",
       "</div>"
      ],
      "text/plain": [
       "     movieId                title                    genres\n",
       "321      356  Forrest Gump (1994)  Comedy|Drama|Romance|War"
      ]
     },
     "execution_count": 160,
     "metadata": {},
     "output_type": "execute_result"
    }
   ],
   "source": [
    "movies_genre[movies_genre.title=='Forrest Gump (1994)'] # So for sure so more restrictive genres mapping would be nice"
   ]
  },
  {
   "cell_type": "markdown",
   "metadata": {},
   "source": [
    "### So this is the end of the analysis and now let's move to the actual implementation\n",
    "Think recommender will think in a hierarchical approach:\n",
    "\n",
    "* First it looks in the assosiactions rules concerning concrete films (This will be build iteratively starting from low support and low rule length ending in bigger support and a little bit longer rules). However the length of the frequent sets will be at most 4/5.\n",
    "* If it doesn't find anything there. Then it moves to the rules about genres, build in the same way. \n",
    "* If still no results we utilize the correlation matrix to find which genre would be good\n",
    "* If we have a genre we will just try to reccomend not viewed movies starting from the best\\worst ones."
   ]
  },
  {
   "cell_type": "code",
   "execution_count": 1,
   "metadata": {},
   "outputs": [],
   "source": [
    "import pandas as pd\n",
    "import os\n",
    "import matplotlib.pyplot as plt\n",
    "import numpy as np\n",
    "from collections import defaultdict\n",
    "from itertools import chain, combinations\n",
    "\n",
    "from mlxtend.preprocessing import TransactionEncoder\n",
    "from mlxtend.frequent_patterns import fpgrowth\n",
    "from mlxtend.frequent_patterns import association_rules"
   ]
  },
  {
   "cell_type": "code",
   "execution_count": 2,
   "metadata": {},
   "outputs": [],
   "source": [
    "class FilmTransformer:\n",
    "    def __init__(self,):\n",
    "        pass\n",
    "\n",
    "    def binarize_ratings(self, ratings, negative_bound=2, positive_bound=4):\n",
    "        mask_with_useful_ratings = (ratings.rating >=positive_bound)  | (ratings.rating <= negative_bound)\n",
    "\n",
    "        useful_ratings = ratings.copy().loc[mask_with_useful_ratings,:]\n",
    "        \n",
    "        useful_ratings[\"rating\"] = useful_ratings.rating.apply(lambda x: 1 if x >= 4 else -1)\n",
    "\n",
    "        return useful_ratings\n"
   ]
  },
  {
   "cell_type": "code",
   "execution_count": 3,
   "metadata": {},
   "outputs": [],
   "source": [
    "class FilmDataset:\n",
    "    def __init__(self, movies_path, ratings_path):\n",
    "        self.transformer = FilmTransformer()\n",
    "\n",
    "        self.movies_path = movies_path\n",
    "        self.ratings_path = ratings_path\n",
    "\n",
    "        self.movies = pd.read_csv(os.path.join(data_folder, \"movies.csv\"))\n",
    "        self.ratings = pd.read_csv(os.path.join(data_folder, \"ratings.csv\")).drop(\"timestamp\", axis=1)\n",
    "\n",
    "        self.ratings = self.transformer.binarize_ratings(self.ratings)\n",
    "\n",
    "        self.ratings_positive = self.ratings[self.ratings.rating == 1]\n",
    "        self.ratings_negative = self.ratings[self.ratings.rating == -1]\n",
    "\n",
    "    def get_positive_transactions(self, users_id):\n",
    "        return [\n",
    "            list(self.ratings_positive[self.ratings_positive.userId == x].movieId)\n",
    "            for x in users_id\n",
    "        ]\n",
    "    \n",
    "    def get_negative_transactions(self, users_id):\n",
    "        return [\n",
    "            list(self.ratings_negative[self.ratings_negative.userId == x].movieId)\n",
    "            for x in users_id\n",
    "        ]\n"
   ]
  },
  {
   "cell_type": "code",
   "execution_count": 10,
   "metadata": {},
   "outputs": [],
   "source": [
    "class FilmMetadata():\n",
    "    def __init__(self, dataset : FilmDataset):\n",
    "        self.dataset = dataset\n",
    "        self.update_movies_mapping()\n",
    "        self.update_best_worst_films()\n",
    "\n",
    "        self.users_positive =self.dataset.ratings_positive.userId.unique()\n",
    "        self.num_of_positive_users = self.users_positive.size\n",
    "\n",
    "        self.users_negative =self.dataset.ratings_negative.userId.unique()\n",
    "        self.num_of_negative_users = self.users_negative.size    \n",
    "\n",
    "    def update_movies_mapping(self):\n",
    "        self.id_to_movie_mapping = {} # at each id we have a movie title and genres\n",
    "        self.movie_to_id_mapping = {} #mapping in other direction also is needed\n",
    "        self.all_genres = set() #all genres that exists\n",
    "\n",
    "        for index, row in self.dataset.movies.iterrows():\n",
    "            self.id_to_movie_mapping[row.movieId] = {}\n",
    "            self.id_to_movie_mapping[row.movieId][\"title\"] = row.title\n",
    "            self.movie_to_id_mapping[row.title] = row.movieId\n",
    "\n",
    "            movie_genres = row.genres.split(\"|\")\n",
    "            self.id_to_movie_mapping[row.movieId][\"genres\"] = movie_genres\n",
    "\n",
    "            self.all_genres = self.all_genres.union(set(movie_genres))\n",
    "            \n",
    "        self.num_of_genres = len(self.all_genres)\n",
    "\n",
    "    def update_best_worst_films(self,):\n",
    "        self.best_films_in_genre = defaultdict(lambda : [])\n",
    "        self.worst_films_in_genre = defaultdict(lambda : [])\n",
    "\n",
    "        for movieId, positive_ratings in self.dataset.ratings.groupby(\"movieId\").rating.sum().iteritems():\n",
    "            name, genres = self.id_to_movie_mapping[movieId].values()\n",
    "            for genre in genres:\n",
    "                self.best_films_in_genre[genre].append((name, positive_ratings))\n",
    "\n",
    "        for genre, films in self.best_films_in_genre.items():\n",
    "            self.best_films_in_genre[genre] = sorted(films, key = lambda x: x[1], reverse=True)\n",
    "            self.worst_films_in_genre[genre] = self.best_films_in_genre[genre][::-1]\n",
    "\n",
    "    def numbers_to_movies(self, numbers):\n",
    "        return [self.id_to_movie_mapping[num][\"title\"] for num in numbers]\n",
    "\n",
    "    def movies_to_numbers(self, movies):\n",
    "        return [self.movie_to_id_mapping[title] for title in movies]\n",
    "\n",
    "    def get_movies_genre(self, movie_id):\n",
    "        return self.id_to_movie_mapping[movie_id][\"genres\"]\n",
    "    "
   ]
  },
  {
   "cell_type": "code",
   "execution_count": 21,
   "metadata": {},
   "outputs": [],
   "source": [
    "class GenreDataset():\n",
    "    def __init__(self, film_dataset: FilmDataset, metadata: FilmMetadata):\n",
    "        self.metadata = metadata\n",
    "        self.film_dataset = film_dataset\n",
    "        \n",
    "        self.all_genres_list_sorted = sorted(list(self.metadata.all_genres)) # to has always the same mapping\n",
    "        self.mapping_genre_to_numbers = {v:k for k,v in zip(range(len(self.metadata.all_genres)), self.all_genres_list_sorted)}\n",
    "        self.mapping_numbers_to_genre = {v:k for k,v in self.mapping_genre_to_numbers.items()}\n",
    " \n",
    "        user_genres = defaultdict(lambda : [0] * self.metadata.num_of_genres)\n",
    "\n",
    "        #maybe this could be vectorized but not sure how to do it\n",
    "        for index, row in self.film_dataset.ratings.iterrows():\n",
    "            userId, movieId, rating = row\n",
    "            for genre in self.metadata.id_to_movie_mapping[movieId][\"genres\"]:\n",
    "                user_genres[userId][self.mapping_genre_to_numbers[genre]] += rating\n",
    "\n",
    "\n",
    "        self.genres_sentiment = pd.DataFrame(user_genres).transpose()\n",
    "        self.genres_sentiment.columns = self.all_genres_list_sorted\n",
    "\n",
    "        self.genres_sentiment = self.genres_sentiment.apply(lambda x: np.sign(x))\n",
    "\n",
    "    def get_positive_transactions(self, users_id):\n",
    "        positive_transactions_genre = []\n",
    "        for userId in users_id:\n",
    "            liked_genres = np.argwhere((self.genres_sentiment.loc[userId] == 1).to_numpy())\n",
    "            positive_transactions_genre.append(list(liked_genres.flatten()))\n",
    "\n",
    "        return positive_transactions_genre\n",
    "\n",
    "    def get_negative_transactions(self, users_id):\n",
    "        negative_transactions_genre = []\n",
    "        for userId in users_id:\n",
    "            not_liked_genres = np.argwhere((self.genres_sentiment.loc[userId] == -1).to_numpy())\n",
    "            negative_transactions_genre.append(list(not_liked_genres.flatten()))\n",
    "\n",
    "        return negative_transactions_genre\n",
    "\n",
    "    def numbers_to_genres(self, numbers):\n",
    "        return [self.mapping_numbers_to_genre[num] for num in numbers]\n",
    "\n",
    "    def genres_to_numbers(self, genres):\n",
    "        return [self.mapping_genre_to_numbers[g] for g in genres]\n",
    "\n",
    "    \n",
    "\n",
    "    "
   ]
  },
  {
   "cell_type": "code",
   "execution_count": 22,
   "metadata": {},
   "outputs": [],
   "source": [
    "class Rules:\n",
    "    def __init__(self, dataset : FilmDataset, metadata: FilmMetadata, metric=\"lift\", min_threshold=5, min_supports_pos=[0.01, 0.02, 0.03], min_supports_neg=[0.01,0.02,0.03]):\n",
    "        self.te_positive = TransactionEncoder()\n",
    "        self.te_negative = TransactionEncoder()\n",
    "        self.dataset = dataset\n",
    "        self.metadata = metadata\n",
    "\n",
    "        te_array = self.te_positive.fit_transform(self.dataset.get_positive_transactions(self.metadata.users_positive))\n",
    "        self.df_positive = pd.DataFrame(te_array, columns=self.te_positive.columns_)\n",
    "        self.te_positive_id_to_filmId = {v:k for k,v in self.te_positive.columns_mapping_.items()}\n",
    "\n",
    "        te_array = self.te_negative.fit_transform(self.dataset.get_negative_transactions(self.metadata.users_negative))\n",
    "        self.df_negative = pd.DataFrame(te_array, columns=self.te_negative.columns_)\n",
    "        self.te_negative_id_to_filmId = {v:k for k,v in self.te_negative.columns_mapping_.items()}\n",
    "\n",
    "        self.metric = metric\n",
    "        self.min_threshold = min_threshold\n",
    "        self.min_supports_pos = min_supports_pos\n",
    "        self.min_supports_neg = min_supports_neg\n",
    "    \n",
    "    def fit(self,):\n",
    "        self.positive_rules = self.fit_procedure(self.df_positive, self.min_supports_pos)\n",
    "        self.negative_rules = self.fit_procedure(self.df_negative, self.min_supports_neg)\n",
    "\n",
    "    def fit_procedure(self, df, min_supports):\n",
    "        max_lengths = [2,3,4]\n",
    "\n",
    "        #To make this fast I assume that we can choose any film from all having X as antecedent\n",
    "        #And for different antecedents length Ill have separate dictonaries\n",
    "        num_of_antecedents = [1,2,3]\n",
    "        rules_with_n_antecedents = {antecedents:defaultdict(lambda : set()) for antecedents in num_of_antecedents}\n",
    "        \n",
    "        for i, (min_supp, max_length) in enumerate(zip(min_supports, max_lengths)):\n",
    "            frequent_itemsets = fpgrowth(df, min_support=min_supp, use_colnames=True, max_len=max_length)\n",
    "            rules = association_rules(frequent_itemsets, metric=self.metric, min_threshold=self.min_threshold)\n",
    "\n",
    "            if i > 0:\n",
    "                # I already have all rules with max_length - 1 so I am only interested in the shorter ones\n",
    "                shorter_rules_filter = rules.apply(lambda x: len(x.antecedents.union(x.consequents)), axis=1) > max_lengths[i-1]\n",
    "                rules = rules[shorter_rules_filter]\n",
    "\n",
    "            #Here I update all previously gathered rules of each length by new consequents\n",
    "            for id, rule in rules.iterrows():\n",
    "                antecedents = tuple(sorted(list(rule.antecedents)))\n",
    "                consequents = rule.consequents\n",
    "\n",
    "                for ant_len in num_of_antecedents[:i+1]:\n",
    "                    if len(antecedents) == ant_len:\n",
    "                        rules_with_n_antecedents[ant_len][antecedents] = rules_with_n_antecedents[ant_len][antecedents].union(consequents)\n",
    "\n",
    "        return rules_with_n_antecedents\n",
    "    \n",
    "    def get_all_possible_consequents(self, antecedents: tuple, rules):\n",
    "        antecedents = tuple(sorted(antecedents))\n",
    "        if len(antecedents) in rules and antecedents in rules[len(antecedents)]:\n",
    "            yield rules[len(antecedents)][antecedents]\n",
    "\n",
    "        all_subsets = chain.from_iterable(combinations(antecedents, r) for r in range(1, min(4, len(antecedents)+1))) # from smallest to biggest\n",
    "        all_subsets_from_biggest = sorted(list(all_subsets), key = lambda x: len(x), reverse=True)\n",
    "        for smaller_antecedents in all_subsets_from_biggest:\n",
    "            if smaller_antecedents in rules[len(smaller_antecedents)]:\n",
    "                yield rules[len(smaller_antecedents)][smaller_antecedents]\n",
    "\n",
    "\n",
    "    def transform(self, antecedents, positive=True,):\n",
    "        rules = self.positive_rules if positive else self.negative_rules\n",
    "        te = self.te_positive if positive else self.te_negative\n",
    "        mapping = self.te_positive_id_to_filmId if positive else self.te_negative_id_to_filmId\n",
    "\n",
    "        antecedents = [te.columns_mapping_[a] for a in antecedents]\n",
    "        for consequent in self.get_all_possible_consequents(antecedents, rules):\n",
    "            if len(consequent) > 0:\n",
    "                return [mapping[c] for c in consequent]\n",
    "\n",
    "        return []\n",
    "        \n",
    "    "
   ]
  },
  {
   "cell_type": "code",
   "execution_count": 26,
   "metadata": {},
   "outputs": [],
   "source": [
    "class CorrelationRule:\n",
    "    def __init__(self, dataset: GenreDataset, metadata: FilmMetadata):\n",
    "        self.dataset = dataset\n",
    "        self.metadata = metadata\n",
    "\n",
    "        self.genres_sentiment_correlation = self.dataset.genres_sentiment.corr()\n",
    "        self.genres_sentiment_correlation.values[np.arange(self.metadata.num_of_genres), np.arange(self.metadata.num_of_genres)] = -2\n",
    "\n",
    "        self.best_correlations = {}\n",
    "        for i, (genre_name, correlations) in enumerate(self.genres_sentiment_correlation.iteritems()):\n",
    "            self.best_correlations[genre_name] = correlations.sort_values(ascending=False)[:4]\n",
    "\n",
    "    def transform(self, genre):\n",
    "        #during selecting genre each has weight proportional to the correlation value\n",
    "        genre_names = self.best_correlations[genre].index\n",
    "        weights = self.best_correlations[genre].values\n",
    "        weights /= np.sum(weights)\n",
    "        \n",
    "        genre_num = np.random.choice(np.arange(len(weights)), size=1, p=weights)\n",
    "\n",
    "        selected_genre = genre_names[genre_num].values[0]\n",
    "\n",
    "        return selected_genre\n",
    "        "
   ]
  },
  {
   "cell_type": "code",
   "execution_count": 27,
   "metadata": {},
   "outputs": [],
   "source": [
    "class Recommender:\n",
    "    def __init__(self, rules_film: Rules, rules_genre : Rules, correlation_rules: CorrelationRule, metadata : FilmMetadata, genre_dataset: GenreDataset):\n",
    "        self.rules_film = rules_film\n",
    "        self.rules_genre = rules_genre\n",
    "        self.correlation_rules = correlation_rules\n",
    "\n",
    "        self.metadata = metadata\n",
    "        self.genre_dataset = genre_dataset\n",
    "\n",
    "    def select_film(self, selected_genre, previously_watched, positive):\n",
    "        films_to_choose_from = self.metadata.best_films_in_genre if positive else self.metadata.worst_films_in_genre\n",
    "        for film in films_to_choose_from[selected_genre]:\n",
    "            name, positive_score = film\n",
    "            if name not in previously_watched:\n",
    "                return name\n",
    "\n",
    "    def remove_watched(self, selected, previously_watched):\n",
    "        return [s for s in selected if s not in previously_watched]    \n",
    "\n",
    "    def recommend(self, antecedents, previously_watched, positive=True):\n",
    "        antecedents = tuple(self.metadata.movies_to_numbers(antecedents))\n",
    "        \n",
    "\n",
    "        films = self.rules_film.transform(antecedents, positive)\n",
    "        films = self.metadata.numbers_to_movies(films)\n",
    "        films_filtered = self.remove_watched(films, previously_watched)\n",
    "        \n",
    "        if films_filtered:\n",
    "            return films_filtered\n",
    "        \n",
    "        for a in antecedents:\n",
    "            antecedent_genres = self.genre_dataset.genres_to_numbers(self.metadata.get_movies_genre(a))\n",
    "            genres = self.rules_genre.transform(tuple(antecedent_genres), positive)\n",
    "            if genres:\n",
    "                genres = self.genre_dataset.numbers_to_genres(genres)\n",
    "                selected_genre = np.random.choice(genres)\n",
    "                \n",
    "                return self.select_film(selected_genre, previously_watched, positive)\n",
    "                    \n",
    "        for a in antecedents:\n",
    "            for genre in self.metadata.get_movies_genre(a):\n",
    "                selected_genre = self.correlation_rules.transform(genre)\n",
    "                return self.select_film(selected_genre, previously_watched, positive)\n",
    "        \n",
    "\n",
    "        \n",
    "            \n",
    "    \n",
    "        \n",
    "        "
   ]
  },
  {
   "cell_type": "code",
   "execution_count": 28,
   "metadata": {},
   "outputs": [],
   "source": [
    "data_folder = \"datasets\"\n",
    "movies_path = os.path.join(data_folder, \"movies.csv\")\n",
    "ratings_path = os.path.join(data_folder, \"ratings.csv\")\n",
    "\n",
    "film_dataset = FilmDataset(movies_path, ratings_path)\n",
    "metadata = FilmMetadata(film_dataset)\n",
    "\n",
    "genre_dataset = GenreDataset(film_dataset, metadata)\n",
    "\n",
    "rules_film = Rules(film_dataset, metadata, min_threshold=7)\n",
    "rules_film.fit()\n",
    "\n",
    "rules_genre = Rules(genre_dataset, metadata, min_threshold = 1.25, min_supports_pos=[0.4, 0.5, 0.6], min_supports_neg=[0.05,0.1,0.15])\n",
    "rules_genre.fit()\n",
    "\n",
    "correlation_rules = CorrelationRule(genre_dataset, metadata)\n"
   ]
  },
  {
   "cell_type": "code",
   "execution_count": 29,
   "metadata": {},
   "outputs": [],
   "source": [
    "recommender = Recommender(rules_film, rules_genre, correlation_rules, metadata, genre_dataset)"
   ]
  },
  {
   "cell_type": "code",
   "execution_count": 30,
   "metadata": {},
   "outputs": [
    {
     "data": {
      "text/plain": [
       "['Pallbearer, The (1996)',\n",
       " 'First Wives Club, The (1996)',\n",
       " 'Ransom (1996)',\n",
       " 'Crow: City of Angels, The (1996)',\n",
       " 'Dragonheart (1996)',\n",
       " 'Powder (1995)',\n",
       " 'Bad Company (1995)',\n",
       " 'Tie That Binds, The (1995)']"
      ]
     },
     "execution_count": 30,
     "metadata": {},
     "output_type": "execute_result"
    }
   ],
   "source": [
    "#I've watched and liked Grumpier Old Men - film number 3 what to watch next?\n",
    "recommender.recommend({'Grumpier Old Men (1995)'}, set('Grumpier Old Men (1995)'))"
   ]
  },
  {
   "cell_type": "code",
   "execution_count": 31,
   "metadata": {},
   "outputs": [
    {
     "data": {
      "text/plain": [
       "['Pallbearer, The (1996)',\n",
       " 'First Wives Club, The (1996)',\n",
       " 'Ransom (1996)',\n",
       " 'Crow: City of Angels, The (1996)',\n",
       " 'Dragonheart (1996)',\n",
       " 'Powder (1995)',\n",
       " 'Tie That Binds, The (1995)']"
      ]
     },
     "execution_count": 31,
     "metadata": {},
     "output_type": "execute_result"
    }
   ],
   "source": [
    "#I've watched, bad company  too from these\n",
    "recommender.recommend({'Grumpier Old Men (1995)', 'Bad Company (1995)'}, set(['Grumpier Old Men (1995)', 'Bad Company (1995)']))"
   ]
  },
  {
   "cell_type": "code",
   "execution_count": 32,
   "metadata": {},
   "outputs": [
    {
     "data": {
      "text/plain": [
       "'Forrest Gump (1994)'"
      ]
     },
     "execution_count": 32,
     "metadata": {},
     "output_type": "execute_result"
    }
   ],
   "source": [
    "#I've watched, all from that list but I liked only these two\n",
    "recommender.recommend({'Grumpier Old Men (1995)', 'Bad Company (1995)'}, \n",
    "set(['Grumpier Old Men (1995)', 'Bad Company (1995)','Pallbearer, The (1996)',\n",
    " 'First Wives Club, The (1996)',\n",
    " 'Ransom (1996)',\n",
    " 'Crow: City of Angels, The (1996)',\n",
    " 'Dragonheart (1996)',\n",
    " 'Powder (1995)',\n",
    " 'Tie That Binds, The (1995)'\n",
    " ]))"
   ]
  },
  {
   "cell_type": "code",
   "execution_count": 33,
   "metadata": {},
   "outputs": [
    {
     "data": {
      "text/plain": [
       "'Wild Wild West (1999)'"
      ]
     },
     "execution_count": 33,
     "metadata": {},
     "output_type": "execute_result"
    }
   ],
   "source": [
    "#I've watched star Wars But I didn't like it\n",
    "recommender.recommend({'Star Wars: Episode IV - A New Hope (1977)'}, \n",
    "set(['Grumpier Old Men (1995)', 'Bad Company (1995)','Pallbearer, The (1996)',\n",
    " 'First Wives Club, The (1996)',\n",
    " 'Ransom (1996)',\n",
    " 'Crow: City of Angels, The (1996)',\n",
    " 'Dragonheart (1996)',\n",
    " 'Powder (1995)',\n",
    " 'Tie That Binds, The (1995)',\n",
    " 'Star Wars: Episode IV - A New Hope (1977)'\n",
    " ]), positive=False)"
   ]
  }
 ],
 "metadata": {
  "interpreter": {
   "hash": "6a2214deb2e00a4588fb64d6e2ad9e78ab07788ce628f39696990503e7a4b014"
  },
  "kernelspec": {
   "display_name": "Python 3.9.7 ('base')",
   "language": "python",
   "name": "python3"
  },
  "language_info": {
   "codemirror_mode": {
    "name": "ipython",
    "version": 3
   },
   "file_extension": ".py",
   "mimetype": "text/x-python",
   "name": "python",
   "nbconvert_exporter": "python",
   "pygments_lexer": "ipython3",
   "version": "3.9.7"
  },
  "orig_nbformat": 4
 },
 "nbformat": 4,
 "nbformat_minor": 2
}
