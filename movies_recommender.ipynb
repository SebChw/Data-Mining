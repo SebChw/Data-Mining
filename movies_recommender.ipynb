{
 "cells": [
  {
   "cell_type": "code",
   "execution_count": 1,
   "metadata": {},
   "outputs": [],
   "source": [
    "import pandas as pd\n",
    "import os\n",
    "import matplotlib.pyplot as plt"
   ]
  },
  {
   "cell_type": "markdown",
   "metadata": {},
   "source": [
    "### Getting the data and preprocessing it"
   ]
  },
  {
   "cell_type": "code",
   "execution_count": 2,
   "metadata": {},
   "outputs": [],
   "source": [
    "#Loading data into dataframes\n",
    "\n",
    "data_folder = \"datasets\"\n",
    "\n",
    "movies = pd.read_csv(os.path.join(data_folder, \"movies.csv\")).drop(\"genres\", axis=1) # We do not need genres for our analysis\n",
    "ratings = pd.read_csv(os.path.join(data_folder, \"ratings.csv\")).drop(\"timestamp\", axis=1) # timestap not needed too"
   ]
  },
  {
   "cell_type": "code",
   "execution_count": 3,
   "metadata": {},
   "outputs": [],
   "source": [
    "#Creating a mapping from film_id to film name\n",
    "movies_mapping = {}\n",
    "for index, row in movies.iterrows():\n",
    "    movies_mapping[row.movieId] = row.title"
   ]
  },
  {
   "cell_type": "code",
   "execution_count": 5,
   "metadata": {},
   "outputs": [],
   "source": [
    "#Leaving only reviews that are either positive or negative and then binarizing them\n",
    "mask_with_useful_ratings = (ratings.rating >=4)  | (ratings.rating <= 2)\n",
    "\n",
    "useful_ratings = ratings.loc[mask_with_useful_ratings,:].copy() #Withouth this Pandas was raising a warning about performing operation on slices. \n",
    "\n",
    "useful_ratings[\"rating\"] = useful_ratings.rating.apply(lambda x: 1 if x >= 4 else 0)"
   ]
  },
  {
   "cell_type": "code",
   "execution_count": 6,
   "metadata": {},
   "outputs": [],
   "source": [
    "#Getting number of users and their Id's, moreover I was wondering if I should use test set\n",
    "#While creating and association rules\n",
    "users = useful_ratings.userId.unique()\n",
    "num_of_users = users.size\n",
    "\n",
    "#size_of_test_set = 0.01\n",
    "#users_test, users_train = users[:int(num_of_users*size_of_test_set)], users[int(num_of_users*size_of_test_set):]\n",
    "users_train = users"
   ]
  },
  {
   "cell_type": "code",
   "execution_count": 7,
   "metadata": {},
   "outputs": [],
   "source": [
    "#Creating 2 separate dataframes one for positive rating and second for negative\n",
    "useful_ratings_positive = useful_ratings[useful_ratings.rating == 1]\n",
    "useful_ratings_negative = useful_ratings[useful_ratings.rating == 0]"
   ]
  },
  {
   "cell_type": "code",
   "execution_count": 8,
   "metadata": {},
   "outputs": [],
   "source": [
    "#one user is our service seems to be a one transaction\n",
    "#This table is in 1NF and we must instead create a list of reviewed films by every user\n",
    "positive_transactions = [\n",
    "    list(useful_ratings_positive[useful_ratings_positive.userId == x].movieId)\n",
    "    for x in users_train\n",
    "]\n",
    "\n",
    "negative_transactions = [\n",
    "    list(useful_ratings_negative[useful_ratings_negative.userId == x].movieId)\n",
    "    for x in users_train\n",
    "]"
   ]
  },
  {
   "cell_type": "markdown",
   "metadata": {},
   "source": [
    "### inspecting the positive transactions"
   ]
  },
  {
   "cell_type": "code",
   "execution_count": 9,
   "metadata": {},
   "outputs": [],
   "source": [
    "from mlxtend.preprocessing import TransactionEncoder\n",
    "from mlxtend.frequent_patterns import fpgrowth # use fpgrowth\n",
    "from mlxtend.frequent_patterns import association_rules\n",
    "\n",
    "te = TransactionEncoder()\n",
    "te_array = te.fit_transform(positive_transactions)"
   ]
  },
  {
   "cell_type": "code",
   "execution_count": 10,
   "metadata": {},
   "outputs": [],
   "source": [
    "df = pd.DataFrame(te_array, columns=te.columns_)"
   ]
  },
  {
   "cell_type": "code",
   "execution_count": 11,
   "metadata": {},
   "outputs": [
    {
     "data": {
      "text/plain": [
       "(671, 6170)"
      ]
     },
     "execution_count": 11,
     "metadata": {},
     "output_type": "execute_result"
    }
   ],
   "source": [
    "df.shape # So we have only 671 users in the database, and they've commented 6k films, whereas we have 9k in our base"
   ]
  },
  {
   "cell_type": "markdown",
   "metadata": {},
   "source": [
    "Let's count how many films were reviewed how many times."
   ]
  },
  {
   "cell_type": "code",
   "execution_count": 12,
   "metadata": {},
   "outputs": [
    {
     "data": {
      "text/plain": [
       "count    6170.000000\n",
       "mean        8.357861\n",
       "std        18.314944\n",
       "min         1.000000\n",
       "25%         1.000000\n",
       "50%         2.000000\n",
       "75%         7.000000\n",
       "max       274.000000\n",
       "dtype: float64"
      ]
     },
     "execution_count": 12,
     "metadata": {},
     "output_type": "execute_result"
    }
   ],
   "source": [
    "df.sum().describe() # To include half of a films we would need to set support equal to 2 reviews! Very small number\n",
    "#Also we have a few films that were reviewed so many times. Maybe these are classic watched by everybody?"
   ]
  },
  {
   "cell_type": "code",
   "execution_count": 14,
   "metadata": {},
   "outputs": [
    {
     "data": {
      "text/plain": [
       "Text(0.5, 1.0, 'Distribution of amount of reviews')"
      ]
     },
     "execution_count": 14,
     "metadata": {},
     "output_type": "execute_result"
    },
    {
     "data": {
      "image/png": "[encoded data removed]",
      "text/plain": [
       "<Figure size 432x288 with 1 Axes>"
      ]
     },
     "metadata": {
      "needs_background": "light"
     },
     "output_type": "display_data"
    }
   ],
   "source": [
    "_ = plt.hist(df.sum(), 50)\n",
    "plt.xlabel(\"Number of reviews\")\n",
    "plt.ylabel(\"Number of films\")\n",
    "plt.title(\"Distribution of amount of reviews\")"
   ]
  },
  {
   "cell_type": "markdown",
   "metadata": {},
   "source": [
    "So we see that most of the films are rather rarely reviewed. Most of them appears only few times, so support for itemsets containing these films will be very small. As a result these films won't be included in any association rule. What to do if user starts watching from these films, what to recommend then?\n",
    "\n",
    "We have 671 movies, so if we set support to 5% then movie needs to be at least 34 times reviewed so we will reject most of the movies\n",
    "\n",
    "Moreover movies that were watched many times, may be classics and these are being shown in everyone's basket. So they will\n",
    "create very big itemsets that do not bring anything new, as everyone likes classic films\n",
    "\n",
    "So maybe different approach would work better. I think that we are not very interested in very long associations rules, but rather shorter ones\n",
    "So that based on 2/3 lastly seen movies we can with high precission recommend next 1/2 to watch. `So maybe a good idea would be to restrict the length of itemsets`"
   ]
  },
  {
   "cell_type": "markdown",
   "metadata": {},
   "source": [
    "### Now let's see how many reviews one users give"
   ]
  },
  {
   "cell_type": "code",
   "execution_count": 15,
   "metadata": {},
   "outputs": [
    {
     "data": {
      "text/plain": [
       "count     671.000000\n",
       "mean       76.852459\n",
       "std       106.181753\n",
       "min         1.000000\n",
       "25%        20.000000\n",
       "50%        41.000000\n",
       "75%        88.500000\n",
       "max      1115.000000\n",
       "dtype: float64"
      ]
     },
     "execution_count": 15,
     "metadata": {},
     "output_type": "execute_result"
    }
   ],
   "source": [
    "df.sum(axis=1).describe()"
   ]
  },
  {
   "cell_type": "code",
   "execution_count": 16,
   "metadata": {},
   "outputs": [
    {
     "data": {
      "image/png": "[encoded data removed]",
      "text/plain": [
       "<Figure size 432x288 with 1 Axes>"
      ]
     },
     "metadata": {
      "needs_background": "light"
     },
     "output_type": "display_data"
    }
   ],
   "source": [
    "_ = plt.hist(df.sum(axis=1), 50)"
   ]
  },
  {
   "cell_type": "markdown",
   "metadata": {},
   "source": [
    "Again trend is very similar. Most of the users do not give that many reviews. However, we have some outliers who gave more than 1k positive reviews. Are these critics? Or these are bots that comment everything positively? Should we do anything with them? "
   ]
  },
  {
   "cell_type": "markdown",
   "metadata": {},
   "source": [
    "### Creating frequent datasets\n",
    "\n",
    "Let's try at first typical setting with min support 5% which corresponds to a films being watched 34 times"
   ]
  },
  {
   "cell_type": "code",
   "execution_count": 17,
   "metadata": {},
   "outputs": [],
   "source": [
    "frequent_itemsets = fpgrowth(df, min_support=0.05, use_colnames=True) #fpgrowth is much faster than apriori"
   ]
  },
  {
   "cell_type": "code",
   "execution_count": 18,
   "metadata": {},
   "outputs": [
    {
     "data": {
      "text/plain": [
       "(17197, 2)"
      ]
     },
     "execution_count": 18,
     "metadata": {},
     "output_type": "execute_result"
    }
   ],
   "source": [
    "frequent_itemsets.shape"
   ]
  },
  {
   "cell_type": "code",
   "execution_count": 19,
   "metadata": {},
   "outputs": [],
   "source": [
    "positive_ratings_rules = association_rules(frequent_itemsets, metric='lift', min_threshold=5.0)"
   ]
  },
  {
   "cell_type": "code",
   "execution_count": 20,
   "metadata": {},
   "outputs": [],
   "source": [
    "#Let's calculate how many films the rules covered\n",
    "all_films = set()\n",
    "for index, films in positive_ratings_rules.antecedents.iteritems():\n",
    "    all_films = all_films.union(films)\n",
    "\n",
    "len(all_films) "
   ]
  },
  {
   "cell_type": "markdown",
   "metadata": {},
   "source": [
    "This make no sense to use only 100 films out of 6k possible! So definitelly we need to change the approach and maybe try to restrict length of frequent itemsets.\n",
    "\n",
    "Let's try some very radical setting to see if we are able to cover more films with it"
   ]
  },
  {
   "cell_type": "code",
   "execution_count": 40,
   "metadata": {},
   "outputs": [],
   "source": [
    "frequent_itemsets = fpgrowth(df, min_support=0.01, use_colnames=True, max_len=3) \n",
    "#Basically difference between sizes of frequent itemstets even if we change support by a little here is very big"
   ]
  },
  {
   "cell_type": "code",
   "execution_count": 41,
   "metadata": {},
   "outputs": [
    {
     "data": {
      "text/plain": [
       "(2283883, 2)"
      ]
     },
     "execution_count": 41,
     "metadata": {},
     "output_type": "execute_result"
    }
   ],
   "source": [
    "frequent_itemsets.shape"
   ]
  },
  {
   "cell_type": "code",
   "execution_count": 42,
   "metadata": {},
   "outputs": [],
   "source": [
    "positive_ratings_rules = association_rules(frequent_itemsets, metric='lift', min_threshold=5.0)"
   ]
  },
  {
   "cell_type": "code",
   "execution_count": 43,
   "metadata": {},
   "outputs": [
    {
     "data": {
      "text/plain": [
       "1413"
      ]
     },
     "execution_count": 43,
     "metadata": {},
     "output_type": "execute_result"
    }
   ],
   "source": [
    "#Let's calculate how many films the rules covered\n",
    "all_films = set()\n",
    "for index, films in positive_ratings_rules.antecedents.iteritems():\n",
    "    all_films = all_films.union(films)\n",
    "\n",
    "len(all_films) "
   ]
  },
  {
   "cell_type": "markdown",
   "metadata": {},
   "source": [
    "Still not that many films. Only 1413 from 6k in corpus (9k in entire database). Probability that first watched film won't be from that pool is about $\\frac{1413}{6000} \\approx 80\\%$, that 2 films are not from that pool about 50% `(I assumed independence and just muliply probabilities in reality this probably differs.)` so it is very likely that even after watching a few films we will still be forced to show some random recomendations.\n",
    "\n",
    "Moreover some rules may still be conjunctions $A \\wedge B -> C$ and we may not have just $A -> C$ in the base (proofed this to myself by simple van diagram). So what if user watched just A? We can make poor assumptions that $A \\wedge B ->C <=> A -> C \\wedge B -> C$ But this in some cases may give strange results. As an example If someone liked romance and horror then for sure they will like some romance with horror elements but if they just liked romance it make no sense to assume they will like merge of them\n",
    "\n",
    "Another thing would be to assume symmetricity and one step transitivity of these rules (This is may be closer to the true in case of films than previous assumption). So if user liked movie A, but we do not have any rule A -> X, then we check if we have anything B -> A. Then, we could assume that all rules B -> X, where X is random film hold also for A. So then we can also use movies that are only consequents. But how much more we have then?"
   ]
  },
  {
   "cell_type": "code",
   "execution_count": 47,
   "metadata": {},
   "outputs": [
    {
     "data": {
      "text/plain": [
       "1413"
      ]
     },
     "execution_count": 47,
     "metadata": {},
     "output_type": "execute_result"
    }
   ],
   "source": [
    "#Additionally add consequents to all possible films\n",
    "for index, films in positive_ratings_rules.consequents.iteritems():\n",
    "    all_films = all_films.union(films)\n",
    "len(all_films)"
   ]
  },
  {
   "cell_type": "markdown",
   "metadata": {},
   "source": [
    "Didn't expected that we won't gain anything... So maybe this symmetricity holds with such a small support?\n",
    "\n",
    "Last idea I have is to incorporate Multilevel Association Rules and use information about film genres, which I've previously dropped. If rules incorporating ganres will be trivial and not helping at all, then eventually if we do not have information in rules we can just recommend random movie from the same genre as previosuly watched one."
   ]
  },
  {
   "cell_type": "code",
   "execution_count": 56,
   "metadata": {},
   "outputs": [],
   "source": [
    "movies_genre = pd.read_csv(os.path.join(data_folder, \"movies.csv\"))"
   ]
  },
  {
   "cell_type": "code",
   "execution_count": 57,
   "metadata": {},
   "outputs": [],
   "source": [
    "#Creating a mapping from film_id to [film_name, film_genres] \n",
    "movies_mapping_genre = {}\n",
    "for index, row in movies_genre.iterrows():\n",
    "    movies_mapping[row.movieId] = []\n",
    "    movies_mapping[row.movieId].append(row.title)\n",
    "    movies_mapping[row.movieId].append(row.genres.split(\"|\"))"
   ]
  },
  {
   "cell_type": "code",
   "execution_count": 53,
   "metadata": {},
   "outputs": [
    {
     "data": {
      "text/html": [
       "<div>\n",
       "<style scoped>\n",
       "    .dataframe tbody tr th:only-of-type {\n",
       "        vertical-align: middle;\n",
       "    }\n",
       "\n",
       "    .dataframe tbody tr th {\n",
       "        vertical-align: top;\n",
       "    }\n",
       "\n",
       "    .dataframe thead th {\n",
       "        text-align: right;\n",
       "    }\n",
       "</style>\n",
       "<table border=\"1\" class=\"dataframe\">\n",
       "  <thead>\n",
       "    <tr style=\"text-align: right;\">\n",
       "      <th></th>\n",
       "      <th>movieId</th>\n",
       "      <th>title</th>\n",
       "      <th>genres</th>\n",
       "    </tr>\n",
       "  </thead>\n",
       "  <tbody>\n",
       "    <tr>\n",
       "      <th>0</th>\n",
       "      <td>1</td>\n",
       "      <td>Toy Story (1995)</td>\n",
       "      <td>Adventure|Animation|Children|Comedy|Fantasy</td>\n",
       "    </tr>\n",
       "    <tr>\n",
       "      <th>1</th>\n",
       "      <td>2</td>\n",
       "      <td>Jumanji (1995)</td>\n",
       "      <td>Adventure|Children|Fantasy</td>\n",
       "    </tr>\n",
       "    <tr>\n",
       "      <th>2</th>\n",
       "      <td>3</td>\n",
       "      <td>Grumpier Old Men (1995)</td>\n",
       "      <td>Comedy|Romance</td>\n",
       "    </tr>\n",
       "    <tr>\n",
       "      <th>3</th>\n",
       "      <td>4</td>\n",
       "      <td>Waiting to Exhale (1995)</td>\n",
       "      <td>Comedy|Drama|Romance</td>\n",
       "    </tr>\n",
       "    <tr>\n",
       "      <th>4</th>\n",
       "      <td>5</td>\n",
       "      <td>Father of the Bride Part II (1995)</td>\n",
       "      <td>Comedy</td>\n",
       "    </tr>\n",
       "    <tr>\n",
       "      <th>...</th>\n",
       "      <td>...</td>\n",
       "      <td>...</td>\n",
       "      <td>...</td>\n",
       "    </tr>\n",
       "    <tr>\n",
       "      <th>9120</th>\n",
       "      <td>162672</td>\n",
       "      <td>Mohenjo Daro (2016)</td>\n",
       "      <td>Adventure|Drama|Romance</td>\n",
       "    </tr>\n",
       "    <tr>\n",
       "      <th>9121</th>\n",
       "      <td>163056</td>\n",
       "      <td>Shin Godzilla (2016)</td>\n",
       "      <td>Action|Adventure|Fantasy|Sci-Fi</td>\n",
       "    </tr>\n",
       "    <tr>\n",
       "      <th>9122</th>\n",
       "      <td>163949</td>\n",
       "      <td>The Beatles: Eight Days a Week - The Touring Y...</td>\n",
       "      <td>Documentary</td>\n",
       "    </tr>\n",
       "    <tr>\n",
       "      <th>9123</th>\n",
       "      <td>164977</td>\n",
       "      <td>The Gay Desperado (1936)</td>\n",
       "      <td>Comedy</td>\n",
       "    </tr>\n",
       "    <tr>\n",
       "      <th>9124</th>\n",
       "      <td>164979</td>\n",
       "      <td>Women of '69, Unboxed</td>\n",
       "      <td>Documentary</td>\n",
       "    </tr>\n",
       "  </tbody>\n",
       "</table>\n",
       "<p>9125 rows × 3 columns</p>\n",
       "</div>"
      ],
      "text/plain": [
       "      movieId                                              title  \\\n",
       "0           1                                   Toy Story (1995)   \n",
       "1           2                                     Jumanji (1995)   \n",
       "2           3                            Grumpier Old Men (1995)   \n",
       "3           4                           Waiting to Exhale (1995)   \n",
       "4           5                 Father of the Bride Part II (1995)   \n",
       "...       ...                                                ...   \n",
       "9120   162672                                Mohenjo Daro (2016)   \n",
       "9121   163056                               Shin Godzilla (2016)   \n",
       "9122   163949  The Beatles: Eight Days a Week - The Touring Y...   \n",
       "9123   164977                           The Gay Desperado (1936)   \n",
       "9124   164979                              Women of '69, Unboxed   \n",
       "\n",
       "                                           genres  \n",
       "0     Adventure|Animation|Children|Comedy|Fantasy  \n",
       "1                      Adventure|Children|Fantasy  \n",
       "2                                  Comedy|Romance  \n",
       "3                            Comedy|Drama|Romance  \n",
       "4                                          Comedy  \n",
       "...                                           ...  \n",
       "9120                      Adventure|Drama|Romance  \n",
       "9121              Action|Adventure|Fantasy|Sci-Fi  \n",
       "9122                                  Documentary  \n",
       "9123                                       Comedy  \n",
       "9124                                  Documentary  \n",
       "\n",
       "[9125 rows x 3 columns]"
      ]
     },
     "execution_count": 53,
     "metadata": {},
     "output_type": "execute_result"
    }
   ],
   "source": [
    "movies_ganre"
   ]
  },
  {
   "cell_type": "code",
   "execution_count": 208,
   "metadata": {},
   "outputs": [],
   "source": [
    "class Recommender:\n",
    "    def __init__(self,positive_rules, negative_rules):\n",
    "        self.positive_rules = positive_rules\n",
    "        self.negative_rules = negative_rules\n",
    "\n",
    "    def recommend_positive(self, previously_watched):\n",
    "        #first lets check direct matches\n",
    "        previously_watched = set(previously_watched)\n",
    "        found_rules = self.positive_rules[\"antecedents\"].apply(lambda x: x == previously_watched)\n",
    "        if found_rules.any():\n",
    "            print(\"com2\")\n",
    "            return self.positive_rules[\"consequents\"][found_rules]\n",
    "        \n",
    "        found_rules = self.positive_rules[\"antecedents\"].apply(lambda x: x.issuperset(previously_watched))\n",
    "        if found_rules.any():\n",
    "            print(\"com\")\n",
    "            return self.positive_rules[[\"consequents\", \"lift\"]][found_rules]\n",
    "        \n",
    "        \n",
    "\n",
    "            \n",
    "            "
   ]
  },
  {
   "cell_type": "code",
   "execution_count": 209,
   "metadata": {},
   "outputs": [
    {
     "name": "stdout",
     "output_type": "stream",
     "text": [
      "com2\n"
     ]
    },
    {
     "data": {
      "text/plain": [
       "45                        (4993, 1196)\n",
       "53                        (5952, 1196)\n",
       "62                        (4993, 1198)\n",
       "66                        (5952, 1198)\n",
       "73                        (4993, 1210)\n",
       "79                        (5952, 1210)\n",
       "89                        (5952, 4993)\n",
       "273                 (4993, 1196, 1198)\n",
       "285                 (5952, 1196, 1198)\n",
       "311                 (4993, 1210, 1196)\n",
       "323                 (5952, 1210, 1196)\n",
       "340                 (4993, 2571, 1196)\n",
       "351                 (5952, 2571, 1196)\n",
       "368                 (5952, 4993, 1196)\n",
       "391                 (4993, 1210, 1198)\n",
       "403                 (5952, 1210, 1198)\n",
       "420                 (5952, 4993, 1198)\n",
       "436                 (4993, 1210, 2571)\n",
       "447                 (5952, 1210, 2571)\n",
       "464                 (5952, 4993, 1210)\n",
       "471                 (5952, 4993, 2571)\n",
       "682           (4993, 1210, 1196, 1198)\n",
       "710           (5952, 1210, 1196, 1198)\n",
       "751           (5952, 4993, 1196, 1198)\n",
       "810           (4993, 1210, 2571, 1196)\n",
       "840           (5952, 1210, 2571, 1196)\n",
       "881           (5952, 4993, 1210, 1196)\n",
       "915           (5952, 4993, 2571, 1196)\n",
       "955           (5952, 4993, 1210, 1198)\n",
       "993           (5952, 4993, 1210, 2571)\n",
       "1158    (5952, 4993, 1196, 1198, 1210)\n",
       "1246    (5952, 4993, 2571, 1196, 1210)\n",
       "Name: consequents, dtype: object"
      ]
     },
     "execution_count": 209,
     "metadata": {},
     "output_type": "execute_result"
    }
   ],
   "source": [
    "recommender = Recommender(potitive_ratings_rules, None)\n",
    "recommender.recommend_positive([7153, 260])"
   ]
  },
  {
   "cell_type": "code",
   "execution_count": 212,
   "metadata": {},
   "outputs": [
    {
     "data": {
      "text/html": [
       "<div>\n",
       "<style scoped>\n",
       "    .dataframe tbody tr th:only-of-type {\n",
       "        vertical-align: middle;\n",
       "    }\n",
       "\n",
       "    .dataframe tbody tr th {\n",
       "        vertical-align: top;\n",
       "    }\n",
       "\n",
       "    .dataframe thead th {\n",
       "        text-align: right;\n",
       "    }\n",
       "</style>\n",
       "<table border=\"1\" class=\"dataframe\">\n",
       "  <thead>\n",
       "    <tr style=\"text-align: right;\">\n",
       "      <th></th>\n",
       "      <th>antecedents</th>\n",
       "      <th>consequents</th>\n",
       "      <th>antecedent support</th>\n",
       "      <th>consequent support</th>\n",
       "      <th>support</th>\n",
       "      <th>confidence</th>\n",
       "      <th>lift</th>\n",
       "      <th>leverage</th>\n",
       "      <th>conviction</th>\n",
       "    </tr>\n",
       "  </thead>\n",
       "  <tbody>\n",
       "    <tr>\n",
       "      <th>45</th>\n",
       "      <td>(7153, 260)</td>\n",
       "      <td>(4993, 1196)</td>\n",
       "      <td>0.117318</td>\n",
       "      <td>0.148976</td>\n",
       "      <td>0.108007</td>\n",
       "      <td>0.920635</td>\n",
       "      <td>6.179762</td>\n",
       "      <td>0.090530</td>\n",
       "      <td>10.722905</td>\n",
       "    </tr>\n",
       "    <tr>\n",
       "      <th>273</th>\n",
       "      <td>(7153, 260)</td>\n",
       "      <td>(4993, 1196, 1198)</td>\n",
       "      <td>0.117318</td>\n",
       "      <td>0.104283</td>\n",
       "      <td>0.085661</td>\n",
       "      <td>0.730159</td>\n",
       "      <td>7.001701</td>\n",
       "      <td>0.073427</td>\n",
       "      <td>3.319422</td>\n",
       "    </tr>\n",
       "  </tbody>\n",
       "</table>\n",
       "</div>"
      ],
      "text/plain": [
       "     antecedents         consequents  antecedent support  consequent support  \\\n",
       "45   (7153, 260)        (4993, 1196)            0.117318            0.148976   \n",
       "273  (7153, 260)  (4993, 1196, 1198)            0.117318            0.104283   \n",
       "\n",
       "      support  confidence      lift  leverage  conviction  \n",
       "45   0.108007    0.920635  6.179762  0.090530   10.722905  \n",
       "273  0.085661    0.730159  7.001701  0.073427    3.319422  "
      ]
     },
     "execution_count": 212,
     "metadata": {},
     "output_type": "execute_result"
    }
   ],
   "source": [
    "potitive_ratings_rules.iloc[[45,273]]"
   ]
  },
  {
   "cell_type": "code",
   "execution_count": null,
   "metadata": {},
   "outputs": [],
   "source": []
  }
 ],
 "metadata": {
  "interpreter": {
   "hash": "6a2214deb2e00a4588fb64d6e2ad9e78ab07788ce628f39696990503e7a4b014"
  },
  "kernelspec": {
   "display_name": "Python 3.9.7 ('base')",
   "language": "python",
   "name": "python3"
  },
  "language_info": {
   "codemirror_mode": {
    "name": "ipython",
    "version": 3
   },
   "file_extension": ".py",
   "mimetype": "text/x-python",
   "name": "python",
   "nbconvert_exporter": "python",
   "pygments_lexer": "ipython3",
   "version": "3.9.7"
  },
  "orig_nbformat": 4
 },
 "nbformat": 4,
 "nbformat_minor": 2
}
